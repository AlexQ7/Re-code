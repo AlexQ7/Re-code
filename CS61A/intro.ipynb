{
 "cells": [
  {
   "cell_type": "code",
   "execution_count": 1,
   "id": "4ab29176-0ffc-4b89-bdc1-f03df1a375ab",
   "metadata": {},
   "outputs": [],
   "source": [
    "from operator import add, sub, mul\n",
    "from math import sqrt"
   ]
  },
  {
   "cell_type": "code",
   "execution_count": 2,
   "id": "3e9649aa-7e7f-498a-bf93-26e6eeab961b",
   "metadata": {},
   "outputs": [
    {
     "data": {
      "text/plain": [
       "3.0"
      ]
     },
     "execution_count": 2,
     "metadata": {},
     "output_type": "execute_result"
    }
   ],
   "source": [
    "sqrt(add(2, 7))"
   ]
  },
  {
   "cell_type": "code",
   "execution_count": 3,
   "id": "8e8a5a30-695e-4967-a081-16ebab89c464",
   "metadata": {},
   "outputs": [
    {
     "data": {
      "text/plain": [
       "25"
      ]
     },
     "execution_count": 3,
     "metadata": {},
     "output_type": "execute_result"
    }
   ],
   "source": [
    "def square(x):\n",
    "    return mul(x, x)\n",
    "def sum_square(x, y):\n",
    "    return add(square(x), square(y))\n",
    "sum_square(3, 4)"
   ]
  },
  {
   "cell_type": "code",
   "execution_count": null,
   "id": "df1c43f9-37df-41ef-bbcb-9cc86202686a",
   "metadata": {},
   "outputs": [],
   "source": []
  }
 ],
 "metadata": {
  "kernelspec": {
   "display_name": "Python 3 (ipykernel)",
   "language": "python",
   "name": "python3"
  },
  "language_info": {
   "codemirror_mode": {
    "name": "ipython",
    "version": 3
   },
   "file_extension": ".py",
   "mimetype": "text/x-python",
   "name": "python",
   "nbconvert_exporter": "python",
   "pygments_lexer": "ipython3",
   "version": "3.8.10"
  }
 },
 "nbformat": 4,
 "nbformat_minor": 5
}
